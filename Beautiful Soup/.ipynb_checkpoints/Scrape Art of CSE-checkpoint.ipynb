{
 "cells": [
  {
   "cell_type": "code",
   "execution_count": 39,
   "metadata": {
    "collapsed": true
   },
   "outputs": [],
   "source": [
    "import csv\n",
    "import requests\n",
    "from bs4 import BeautifulSoup"
   ]
  },
  {
   "cell_type": "code",
   "execution_count": 40,
   "metadata": {},
   "outputs": [],
   "source": [
    "page = requests.get('http://www.artofcse.com')\n",
    "soup = BeautifulSoup(page.text, 'html.parser')"
   ]
  },
  {
   "cell_type": "code",
   "execution_count": 41,
   "metadata": {},
   "outputs": [
    {
     "data": {
      "text/plain": [
       "'<!DOCTYPE html>\\n<html>\\n <head>\\n  <meta charset=\"utf-8\"/>\\n  <title>\\n   Web Design • Web Development • Programming Bangla Tutorial • Art of CSE\\n  </title>\\n  <meta content=\"width=device-width, initial-scale=1.0\" name=\"viewport\"/>\\n  <meta content=\"h7ADnfs-dMSPYlWuHIP-ljeMkhoy-pbqgIXK7cyGUIo\" name=\"google-site-verification\">\\n   <meta content=\"Learn Web Design, Web Development, Programming. ঘরে বসে ওয়েব ডিজাইন , ওয়েব ডেভেলপমেন্ট, প্রোগ্রামিং শিখুন আর্ট অফ সিএসইতে\" name=\"description\"/>\\n   <meta content=\"Web Design, Web Development, Programming, Bangla tutorial, ওয়েব ডিজাইন , ওয়েব ডেভেলপমেন্ট, প্রোগ্রামিং, বাংলা  টিউটোরিয়াল \" name=\"keywords\"/>\\n   <meta content=\"Web Design • Web Development • Programming Bangla Tutorial • Art of CSE\" property=\"og:title\"/>\\n   <meta content=\"Learn Web Design, Web Development, Programming. ঘরে বসে ওয়েব ডিজাইন , ওয়েব ডেভেলপমেন্ট, প্রোগ্রামিং শিখুন আর্ট অফ সিএসইতে\" property=\"og:description\"/>\\n   <meta content=\"http://www.artofcse.com/uploads/courses/Basic-HTML44992.jpg\" property=\"og:image\"/>\\n   <meta content=\"Web Design • Web Development • Programming Bangla Tutorial • Art of CSE\" name=\"twitter:title\"/>\\n   <meta content=\"Learn Web Design, Web Development, Programming. ঘরে বসে ওয়েব ডিজাইন , ওয়েব ডেভেলপমেন্ট, প্রোগ্রামিং শিখুন আর্ট অফ সিএসইতে\" name=\"twitter:description\"/>\\n   <meta content=\"http://www.artofcse.com/uploads/courses/Basic-HTML44992.jpg\" name=\"twitter:image\"/>\\n   <meta content=\"http://www.artofcse.com/uploads/courses/Basic-HTML44992.jpg\" name=\"twitter:card\"/>\\n   <!-- Loading Bootstrap -->\\n   <link href=\"http://www.artofcse.com/css/bootstrap.css\" media=\"all\" rel=\"stylesheet\" type=\"text/css\"/>\\n   <!-- Edit CSS -->\\n   <link href=\"http://www.artofcse.com/css/default.css\" media=\"all\" rel=\"stylesheet\" type=\"text/css\"/>\\n   <link href=\"http://www.artofcse.com/css/main.css\" media=\"all\" rel=\"stylesheet\" type=\"text/css\"/>\\n   <link href=\"http://www.artofcse.com/css/custom.css\" media=\"all\" rel=\"stylesheet\" type=\"text/css\"/>\\n   <!-- Font Awesome -->\\n   <link href=\"http://www.artofcse.com/css/font-awesome.css\" media=\"all\" rel=\"stylesheet\" type=\"text/css\"/>\\n   <link href=\"https://fonts.googleapis.com/css?family=Titillium+Web:400,900,700,600,300,200\" rel=\"stylesheet\" type=\"text/css\"/>\\n   <link href=\"https://fonts.googleapis.com/css?family=Roboto+Slab:100,300,400,700\" rel=\"stylesheet\"/>\\n   <link href=\"images/favicon.ico\" rel=\"shortcut icon\"/>\\n   <!-- HTML5 shim, for IE6-8 support of HTML5 elements. All other JS at the end of file. -->\\n   <!--[if lt IE 9]>\\n    <script src=\"js/html5shiv.js\"></script>\\n    <script src=\"js/respond.min.js\"></script>\\n    <![endif]-->\\n  </meta>\\n </head>\\n <body>\\n  <div class=\"page\" id=\"page\">\\n   <header class=\"header9\" id=\"header9\">\\n    <nav class=\"navbar navbar-default\" role=\"navigation\">\\n     <div class=\"container\">\\n      <div class=\"navbar-header\">\\n       <button class=\"navbar-toggle\" data-target=\"#navbar-collapse-02\" data-toggle=\"collapse\" type=\"button\">\\n        <span class=\"sr-only\">\\n         Toggle navigation\\n        </span>\\n        <span class=\"icon-bar\">\\n        </span>\\n        <span class=\"icon-bar\">\\n        </span>\\n        <span class=\"icon-bar\">\\n        </span>\\n       </button>\\n       <a class=\"navbar-brand brand\" href=\"http://www.artofcse.com\">\\n        <i class=\"fa fa-font\">\\n        </i>\\n        <span>\\n         ArtOfCSE\\n        </span>\\n        <span>\\n         Learn Computing\\n        </span>\\n       </a>\\n      </div>\\n      <div class=\"collapse navbar-collapse\" id=\"navbar-collapse-02\">\\n       <ul class=\"nav navbar-nav navbar-right\">\\n        <li class=\"active\">\\n         <a href=\"http://www.artofcse.com\">\\n          Home\\n         </a>\\n        </li>\\n        <li>\\n         <a href=\"http://www.artofcse.com/about\">\\n          About\\n         </a>\\n        </li>\\n        <li>\\n         <a href=\"http://www.artofcse.com/courses\">\\n          Courses\\n         </a>\\n        </li>\\n        <li>\\n         <a href=\"http://www.artofcse.com/contact\">\\n          Contact\\n         </a>\\n        </li>\\n       </ul>\\n      </div>\\n      <!-- /.navbar-collapse -->\\n     </div>\\n    </nav>\\n   </header>\\n   <!-- header -->\\n   <header class=\"header9\" id=\"header9\">\\n    <div class=\"intro center-content\">\\n     <div class=\"container\">\\n      <div class=\"row\">\\n       <div class=\"col-md-12 text-center\">\\n        <!-- <div class=\"site-text\"><span>EdenBuilder</span></div> -->\\n        <p class=\"tag-line\">\\n         Spirit of innovation\\n        </p>\\n        <div class=\"slogan text-center\">\\n         <div class=\"flexslider\">\\n          <div class=\"flex-viewport\" style=\"overflow: hidden; position: relative; height: 40px;\">\\n           <ul class=\"flex-slogan\" style=\"position: absolute; width: 100%; transition-duration: 0s; transform: translate3d(0px, -60px, 0px);\">\\n            <li aria-hidden=\"true\" class=\"clone\" style=\"display: block;\">\\n             We Love\\n             <span>\\n              Invention\\n             </span>\\n            </li>\\n            <li class=\"flex-active-slide\" style=\"display: block;\">\\n             We Love\\n             <span>\\n              Creativity\\n             </span>\\n            </li>\\n            <li class=\"\" style=\"display: block;\">\\n             We Love\\n             <span>\\n              Convention\\n             </span>\\n            </li>\\n            <li class=\"\" style=\"display: block;\">\\n             We Love\\n             <span>\\n              Invention\\n             </span>\\n            </li>\\n            <li aria-hidden=\"true\" class=\"clone\" style=\"display: block;\">\\n             We Love\\n             <span>\\n              Creativity\\n             </span>\\n            </li>\\n           </ul>\\n          </div>\\n         </div>\\n         <p>\\n          Start learning with Art of CSE\\n         </p>\\n        </div>\\n       </div>\\n      </div>\\n      <!-- row -->\\n     </div>\\n     <!-- intro -->\\n    </div>\\n    <!-- container -->\\n   </header>\\n   <!-- header -->\\n   <section class=\" blog1\" id=\"blog1\">\\n    <div class=\"container\">\\n     <div class=\"row\">\\n      <div class=\"col-md-12\">\\n       <div class=\"row\">\\n        <div class=\"col-md-3 col-sm-6 col-xs-12\">\\n         <div class=\"blog-post wow fadeInUp\" data-wow-delay=\"0.2s\">\\n          <div class=\"post-img\">\\n           <a href=\"http://www.artofcse.com/courses/7/basic-html\">\\n            <img alt=\"HTML দিয়ে শুরু\" class=\"img-responsive\" src=\"http://www.artofcse.com/uploads/courses/basic-html.jpg\"/>\\n            <div class=\"date text-center\">\\n             <span>\\n              21\\n             </span>\\n             <br/>\\n             Lecture\\n            </div>\\n            <ul class=\"list-inline post-info\">\\n             <li class=\"post-tag text-uppercase\">\\n              Bangla\\n             </li>\\n            </ul>\\n           </a>\\n          </div>\\n          <div class=\"blog-details text-center\">\\n           <a href=\"http://www.artofcse.com/courses/7/basic-html\">\\n            <h4 class=\"media-heading text-center\">\\n             HTML দিয়ে শুরু\\n            </h4>\\n           </a>\\n           <p class=\"text-center\">\\n            এই কোর্সে HTML এর Basic বিষয়গুল আলোচনা করব । আপনি যদি Web Design শিখতে চান তাহলে এই কোর্স\\n           </p>\\n           <a class=\"btn btn-success\" href=\"http://www.artofcse.com/courses/7/basic-html\">\\n            Start Course\\n           </a>\\n          </div>\\n         </div>\\n        </div>\\n        <div class=\"col-md-3 col-sm-6 col-xs-12\">\\n         <div class=\"blog-post wow fadeInUp\" data-wow-delay=\"0.2s\">\\n          <div class=\"post-img\">\\n           <a href=\"http://www.artofcse.com/courses/8/basic-css\">\\n            <img alt=\"CSS এ হাতে খড়ি\" class=\"img-responsive\" src=\"http://www.artofcse.com/uploads/courses/Basic-CSS72343.jpg\"/>\\n            <div class=\"date text-center\">\\n             <span>\\n              20\\n             </span>\\n             <br/>\\n             Lecture\\n            </div>\\n            <ul class=\"list-inline post-info\">\\n             <li class=\"post-tag text-uppercase\">\\n              Bangla\\n             </li>\\n            </ul>\\n           </a>\\n          </div>\\n          <div class=\"blog-details text-center\">\\n           <a href=\"http://www.artofcse.com/courses/8/basic-css\">\\n            <h4 class=\"media-heading text-center\">\\n             CSS এ হাতে খড়ি\\n            </h4>\\n           </a>\\n           <p class=\"text-center\">\\n            এই কোর্সে CSS এর Basic বিষয়গুল আলোচনা করব । Web Design শিখতে  হলে HTML শেখার পরে CSS শিখতে হবে\\n           </p>\\n           <a class=\"btn btn-success\" href=\"http://www.artofcse.com/courses/8/basic-css\">\\n            Start Course\\n           </a>\\n          </div>\\n         </div>\\n        </div>\\n        <div class=\"col-md-3 col-sm-6 col-xs-12\">\\n         <div class=\"blog-post wow fadeInUp\" data-wow-delay=\"0.2s\">\\n          <div class=\"post-img\">\\n           <a href=\"http://www.artofcse.com/courses/9/psd-to-html\">\\n            <img alt=\"PSD থেকে HTML তেরি\" class=\"img-responsive\" src=\"http://www.artofcse.com/uploads/courses/psdtohmlt.jpg\"/>\\n            <div class=\"date text-center\">\\n             <span>\\n              25\\n             </span>\\n             <br/>\\n             Lecture\\n            </div>\\n            <ul class=\"list-inline post-info\">\\n             <li class=\"post-tag text-uppercase\">\\n              Bangla\\n             </li>\\n            </ul>\\n           </a>\\n          </div>\\n          <div class=\"blog-details text-center\">\\n           <a href=\"http://www.artofcse.com/courses/9/psd-to-html\">\\n            <h4 class=\"media-heading text-center\">\\n             PSD থেকে HTML তেরি\\n            </h4>\\n           </a>\\n           <p class=\"text-center\">\\n            আমরা এই কোর্সে দেখব কিভাবে একটি PSD ফাইলকে হুবহু HTML and CSS রূপান্তর করতে হয় । একটা\\n           </p>\\n           <a class=\"btn btn-success\" href=\"http://www.artofcse.com/courses/9/psd-to-html\">\\n            Start Course\\n           </a>\\n          </div>\\n         </div>\\n        </div>\\n        <div class=\"col-md-3 col-sm-6 col-xs-12\">\\n         <div class=\"blog-post wow fadeInUp\" data-wow-delay=\"0.2s\">\\n          <div class=\"post-img\">\\n           <a href=\"http://www.artofcse.com/courses/10/twitter-bootstrap\">\\n            <img alt=\"Twitter Bootstrap এর ব্যবহার\" class=\"img-responsive\" src=\"http://www.artofcse.com/uploads/courses/Twitter-Bootstrap-এর-ব্যবহ68717.jpeg\"/>\\n            <div class=\"date text-center\">\\n             <span>\\n              4\\n             </span>\\n             <br/>\\n             Lecture\\n            </div>\\n            <ul class=\"list-inline post-info\">\\n             <li class=\"post-tag text-uppercase\">\\n              Bangla\\n             </li>\\n            </ul>\\n           </a>\\n          </div>\\n          <div class=\"blog-details text-center\">\\n           <a href=\"http://www.artofcse.com/courses/10/twitter-bootstrap\">\\n            <h4 class=\"media-heading text-center\">\\n             Twitter Bootstrap এর ব্যবহার\\n            </h4>\\n           </a>\\n           <p class=\"text-center\">\\n            এই কোর্সে আমরা শিখব কিভারে ওয়েব পেজে Twitter bootstrap Framework ব্যবহার করতে হয় । Twitter bootstrap Framework\\n           </p>\\n           <a class=\"btn btn-success\" href=\"http://www.artofcse.com/courses/10/twitter-bootstrap\">\\n            Start Course\\n           </a>\\n          </div>\\n         </div>\\n        </div>\\n        <div class=\"col-md-3 col-sm-6 col-xs-12\">\\n         <div class=\"blog-post wow fadeInUp\" data-wow-delay=\"0.2s\">\\n          <div class=\"post-img\">\\n           <a href=\"http://www.artofcse.com/courses/11/basic-wordpress\">\\n            <img alt=\"Wordpress এর ব্যবহার\" class=\"img-responsive\" src=\"http://www.artofcse.com/uploads/courses/Wordpress-এর-ব্যবহার46105.jpg\"/>\\n            <div class=\"date text-center\">\\n             <span>\\n              23\\n             </span>\\n             <br/>\\n             Lecture\\n            </div>\\n            <ul class=\"list-inline post-info\">\\n             <li class=\"post-tag text-uppercase\">\\n              Bangla\\n             </li>\\n            </ul>\\n           </a>\\n          </div>\\n          <div class=\"blog-details text-center\">\\n           <a href=\"http://www.artofcse.com/courses/11/basic-wordpress\">\\n            <h4 class=\"media-heading text-center\">\\n             Wordpress এর ব্যবহার\\n            </h4>\\n           </a>\\n           <p class=\"text-center\">\\n            Wordpress হচ্ছে একটা CMS। এই Course আমারা ওয়ার্ডপ্রেসের বেসিক বিষয়গুল নিয়ে আলোচনা করব ।\\n           </p>\\n           <a class=\"btn btn-success\" href=\"http://www.artofcse.com/courses/11/basic-wordpress\">\\n            Start Course\\n           </a>\\n          </div>\\n         </div>\\n        </div>\\n        <div class=\"col-md-3 col-sm-6 col-xs-12\">\\n         <div class=\"blog-post wow fadeInUp\" data-wow-delay=\"0.2s\">\\n          <div class=\"post-img\">\\n           <a href=\"http://www.artofcse.com/courses/12/worpress-theme-development\">\\n            <img alt=\"Worpress এর থিম তৈরি\" class=\"img-responsive\" src=\"http://www.artofcse.com/uploads/courses/wordpress-theme.jpg\"/>\\n            <div class=\"date text-center\">\\n             <span>\\n              16\\n             </span>\\n             <br/>\\n             Lecture\\n            </div>\\n            <ul class=\"list-inline post-info\">\\n             <li class=\"post-tag text-uppercase\">\\n              Bangla\\n             </li>\\n            </ul>\\n           </a>\\n          </div>\\n          <div class=\"blog-details text-center\">\\n           <a href=\"http://www.artofcse.com/courses/12/worpress-theme-development\">\\n            <h4 class=\"media-heading text-center\">\\n             Worpress এর থিম তৈরি\\n            </h4>\\n           </a>\\n           <p class=\"text-center\">\\n            এই কোর্সে দেখব কিভাবে Wordpress theme  তৈরি করতে হয় । এই কোর্সটি করতে হলে অবশ্যই HTML and CSS\\n           </p>\\n           <a class=\"btn btn-success\" href=\"http://www.artofcse.com/courses/12/worpress-theme-development\">\\n            Start Course\\n           </a>\\n          </div>\\n         </div>\\n        </div>\\n        <div class=\"col-md-3 col-sm-6 col-xs-12\">\\n         <div class=\"blog-post wow fadeInUp\" data-wow-delay=\"0.2s\">\\n          <div class=\"post-img\">\\n           <a href=\"http://www.artofcse.com/courses/13/cpanel-tutorial\">\\n            <img alt=\"cPanel এর ব্যবহার\" class=\"img-responsive\" src=\"http://www.artofcse.com/uploads/courses/capnel.jpg\"/>\\n            <div class=\"date text-center\">\\n             <span>\\n              9\\n             </span>\\n             <br/>\\n             Lecture\\n            </div>\\n            <ul class=\"list-inline post-info\">\\n             <li class=\"post-tag text-uppercase\">\\n              Bangla\\n             </li>\\n            </ul>\\n           </a>\\n          </div>\\n          <div class=\"blog-details text-center\">\\n           <a href=\"http://www.artofcse.com/courses/13/cpanel-tutorial\">\\n            <h4 class=\"media-heading text-center\">\\n             cPanel এর ব্যবহার\\n            </h4>\\n           </a>\\n           <p class=\"text-center\">\\n            এই কোর্সে দেখব কিভাবে cPanel ব্যবহার করে Website management করতে হয়। ফাইল আপলোড, সাবডোমেইন\\n           </p>\\n           <a class=\"btn btn-success\" href=\"http://www.artofcse.com/courses/13/cpanel-tutorial\">\\n            Start Course\\n           </a>\\n          </div>\\n         </div>\\n        </div>\\n        <div class=\"col-md-3 col-sm-6 col-xs-12\">\\n         <div class=\"blog-post wow fadeInUp\" data-wow-delay=\"0.2s\">\\n          <div class=\"post-img\">\\n           <a href=\"http://www.artofcse.com/courses/14/basic-php\">\\n            <img alt=\"PHP এর হাতে খড়ি\" class=\"img-responsive\" src=\"http://www.artofcse.com/uploads/courses/php.png\"/>\\n            <div class=\"date text-center\">\\n             <span>\\n              22\\n             </span>\\n             <br/>\\n             Lecture\\n            </div>\\n            <ul class=\"list-inline post-info\">\\n             <li class=\"post-tag text-uppercase\">\\n              Bangla\\n             </li>\\n            </ul>\\n           </a>\\n          </div>\\n          <div class=\"blog-details text-center\">\\n           <a href=\"http://www.artofcse.com/courses/14/basic-php\">\\n            <h4 class=\"media-heading text-center\">\\n             PHP এর হাতে খড়ি\\n            </h4>\\n           </a>\\n           <p class=\"text-center\">\\n            Programming এর বেসিক বিষয়গুল এই কোর্সে দেখব। এখানে মূলত PHP এর বেসিক নিয়ে আলোচনা করব।\\n           </p>\\n           <a class=\"btn btn-success\" href=\"http://www.artofcse.com/courses/14/basic-php\">\\n            Start Course\\n           </a>\\n          </div>\\n         </div>\\n        </div>\\n        <div class=\"col-md-3 col-sm-6 col-xs-12\">\\n         <div class=\"blog-post wow fadeInUp\" data-wow-delay=\"0.2s\">\\n          <div class=\"post-img\">\\n           <a href=\"http://www.artofcse.com/courses/15/web-development-with-php\">\\n            <img alt=\"Web Development with PHP\" class=\"img-responsive\" src=\"http://www.artofcse.com/uploads/courses/Web-Development-with-PHP67776.png\"/>\\n            <div class=\"date text-center\">\\n             <span>\\n              25\\n             </span>\\n             <br/>\\n             Lecture\\n            </div>\\n            <ul class=\"list-inline post-info\">\\n             <li class=\"post-tag text-uppercase\">\\n              Bangla\\n             </li>\\n            </ul>\\n           </a>\\n          </div>\\n          <div class=\"blog-details text-center\">\\n           <a href=\"http://www.artofcse.com/courses/15/web-development-with-php\">\\n            <h4 class=\"media-heading text-center\">\\n             Web Development with PHP\\n            </h4>\\n           </a>\\n           <p class=\"text-center\">\\n            এই কোর্সে Web development এর বিষয়গুল জানব । এটি একটি সম্পূর্ণ Web development কোর্স । HTML, CSS, Bootstrap,\\n           </p>\\n           <a class=\"btn btn-success\" href=\"http://www.artofcse.com/courses/15/web-development-with-php\">\\n            Start Course\\n           </a>\\n          </div>\\n         </div>\\n        </div>\\n        <div class=\"col-md-3 col-sm-6 col-xs-12\">\\n         <div class=\"blog-post wow fadeInUp\" data-wow-delay=\"0.2s\">\\n          <div class=\"post-img\">\\n           <a href=\"http://www.artofcse.com/courses/16/object-oriented-php\">\\n            <img alt=\"Object Oriented PHP\" class=\"img-responsive\" src=\"http://www.artofcse.com/uploads/courses/Object-Oriented-PHP67298.jpg\"/>\\n            <div class=\"date text-center\">\\n             <span>\\n              0\\n             </span>\\n             <br/>\\n             Lecture\\n            </div>\\n            <ul class=\"list-inline post-info\">\\n             <li class=\"post-tag text-uppercase\">\\n              Bangla\\n             </li>\\n            </ul>\\n           </a>\\n          </div>\\n          <div class=\"blog-details text-center\">\\n           <a href=\"http://www.artofcse.com/courses/16/object-oriented-php\">\\n            <h4 class=\"media-heading text-center\">\\n             Object Oriented PHP\\n            </h4>\\n           </a>\\n           <p class=\"text-center\">\\n            Coming\\n           </p>\\n           <a class=\"btn btn-success\" href=\"http://www.artofcse.com/courses/16/object-oriented-php\">\\n            Start Course\\n           </a>\\n          </div>\\n         </div>\\n        </div>\\n        <div class=\"col-md-3 col-sm-6 col-xs-12\">\\n         <div class=\"blog-post wow fadeInUp\" data-wow-delay=\"0.2s\">\\n          <div class=\"post-img\">\\n           <a href=\"http://www.artofcse.com/courses/17/laravel-framework\">\\n            <img alt=\"Laravel Framework\" class=\"img-responsive\" src=\"http://www.artofcse.com/uploads/courses/Laravel-Framework94339.jpg\"/>\\n            <div class=\"date text-center\">\\n             <span>\\n              0\\n             </span>\\n             <br/>\\n             Lecture\\n            </div>\\n            <ul class=\"list-inline post-info\">\\n             <li class=\"post-tag text-uppercase\">\\n              Bangla\\n             </li>\\n            </ul>\\n           </a>\\n          </div>\\n          <div class=\"blog-details text-center\">\\n           <a href=\"http://www.artofcse.com/courses/17/laravel-framework\">\\n            <h4 class=\"media-heading text-center\">\\n             Laravel Framework\\n            </h4>\\n           </a>\\n           <p class=\"text-center\">\\n            Coming\\n           </p>\\n           <a class=\"btn btn-success\" href=\"http://www.artofcse.com/courses/17/laravel-framework\">\\n            Start Course\\n           </a>\\n          </div>\\n         </div>\\n        </div>\\n        <div class=\"col-md-3 col-sm-6 col-xs-12\">\\n         <div class=\"blog-post wow fadeInUp\" data-wow-delay=\"0.2s\">\\n          <div class=\"post-img\">\\n           <a href=\"http://www.artofcse.com/courses/18/python-programming\">\\n            <img alt=\"Python Programming\" class=\"img-responsive\" src=\"http://www.artofcse.com/uploads/courses/Python-Programming12846.jpg\"/>\\n            <div class=\"date text-center\">\\n             <span>\\n              0\\n             </span>\\n             <br/>\\n             Lecture\\n            </div>\\n            <ul class=\"list-inline post-info\">\\n             <li class=\"post-tag text-uppercase\">\\n              Bangla\\n             </li>\\n            </ul>\\n           </a>\\n          </div>\\n          <div class=\"blog-details text-center\">\\n           <a href=\"http://www.artofcse.com/courses/18/python-programming\">\\n            <h4 class=\"media-heading text-center\">\\n             Python Programming\\n            </h4>\\n           </a>\\n           <p class=\"text-center\">\\n            Coming\\n           </p>\\n           <a class=\"btn btn-success\" href=\"http://www.artofcse.com/courses/18/python-programming\">\\n            Start Course\\n           </a>\\n          </div>\\n         </div>\\n        </div>\\n       </div>\\n      </div>\\n     </div>\\n    </div>\\n   </section>\\n   <!-- ****** Team Section****** -->\\n   <!--//team section -->\\n   <!-- BOTTOM FOOTER -->\\n   <section class=\"footer1 bottom-footer\">\\n    <div class=\"container\">\\n     <div class=\"row\">\\n      <div class=\"col-md-6\">\\n       Copyrights © 2018 All Reserved by\\n       <a href=\"http://www.artofcse.com\">\\n        Art of CSE\\n       </a>\\n      </div>\\n     </div>\\n    </div>\\n   </section>\\n   <!-- END BOTTOM FOOTER -->\\n  </div>\\n  <!-- /#page -->\\n  <!--=== Load JS here for greater good ====-->\\n  <script src=\"http://www.artofcse.com/js/jquery-1.8.3.min.js\">\\n  </script>\\n  <script src=\"http://www.artofcse.com/js/bootstrap.min.js\">\\n  </script>\\n  <script src=\"http://www.artofcse.com/js/jquery.flexslider.js\">\\n  </script>\\n  <script src=\"http://www.artofcse.com/js/main.js\">\\n  </script>\\n </body>\\n</html>'"
      ]
     },
     "execution_count": 41,
     "metadata": {},
     "output_type": "execute_result"
    }
   ],
   "source": [
    "soup.prettify()"
   ]
  },
  {
   "cell_type": "code",
   "execution_count": 42,
   "metadata": {
    "collapsed": true
   },
   "outputs": [],
   "source": [
    "course_section = soup.find(class_='blog1')"
   ]
  },
  {
   "cell_type": "code",
   "execution_count": 43,
   "metadata": {},
   "outputs": [
    {
     "data": {
      "text/plain": [
       "'<section class=\" blog1\" id=\"blog1\">\\n <div class=\"container\">\\n  <div class=\"row\">\\n   <div class=\"col-md-12\">\\n    <div class=\"row\">\\n     <div class=\"col-md-3 col-sm-6 col-xs-12\">\\n      <div class=\"blog-post wow fadeInUp\" data-wow-delay=\"0.2s\">\\n       <div class=\"post-img\">\\n        <a href=\"http://www.artofcse.com/courses/7/basic-html\">\\n         <img alt=\"HTML দিয়ে শুরু\" class=\"img-responsive\" src=\"http://www.artofcse.com/uploads/courses/basic-html.jpg\"/>\\n         <div class=\"date text-center\">\\n          <span>\\n           21\\n          </span>\\n          <br/>\\n          Lecture\\n         </div>\\n         <ul class=\"list-inline post-info\">\\n          <li class=\"post-tag text-uppercase\">\\n           Bangla\\n          </li>\\n         </ul>\\n        </a>\\n       </div>\\n       <div class=\"blog-details text-center\">\\n        <a href=\"http://www.artofcse.com/courses/7/basic-html\">\\n         <h4 class=\"media-heading text-center\">\\n          HTML দিয়ে শুরু\\n         </h4>\\n        </a>\\n        <p class=\"text-center\">\\n         এই কোর্সে HTML এর Basic বিষয়গুল আলোচনা করব । আপনি যদি Web Design শিখতে চান তাহলে এই কোর্স\\n        </p>\\n        <a class=\"btn btn-success\" href=\"http://www.artofcse.com/courses/7/basic-html\">\\n         Start Course\\n        </a>\\n       </div>\\n      </div>\\n     </div>\\n     <div class=\"col-md-3 col-sm-6 col-xs-12\">\\n      <div class=\"blog-post wow fadeInUp\" data-wow-delay=\"0.2s\">\\n       <div class=\"post-img\">\\n        <a href=\"http://www.artofcse.com/courses/8/basic-css\">\\n         <img alt=\"CSS এ হাতে খড়ি\" class=\"img-responsive\" src=\"http://www.artofcse.com/uploads/courses/Basic-CSS72343.jpg\"/>\\n         <div class=\"date text-center\">\\n          <span>\\n           20\\n          </span>\\n          <br/>\\n          Lecture\\n         </div>\\n         <ul class=\"list-inline post-info\">\\n          <li class=\"post-tag text-uppercase\">\\n           Bangla\\n          </li>\\n         </ul>\\n        </a>\\n       </div>\\n       <div class=\"blog-details text-center\">\\n        <a href=\"http://www.artofcse.com/courses/8/basic-css\">\\n         <h4 class=\"media-heading text-center\">\\n          CSS এ হাতে খড়ি\\n         </h4>\\n        </a>\\n        <p class=\"text-center\">\\n         এই কোর্সে CSS এর Basic বিষয়গুল আলোচনা করব । Web Design শিখতে  হলে HTML শেখার পরে CSS শিখতে হবে\\n        </p>\\n        <a class=\"btn btn-success\" href=\"http://www.artofcse.com/courses/8/basic-css\">\\n         Start Course\\n        </a>\\n       </div>\\n      </div>\\n     </div>\\n     <div class=\"col-md-3 col-sm-6 col-xs-12\">\\n      <div class=\"blog-post wow fadeInUp\" data-wow-delay=\"0.2s\">\\n       <div class=\"post-img\">\\n        <a href=\"http://www.artofcse.com/courses/9/psd-to-html\">\\n         <img alt=\"PSD থেকে HTML তেরি\" class=\"img-responsive\" src=\"http://www.artofcse.com/uploads/courses/psdtohmlt.jpg\"/>\\n         <div class=\"date text-center\">\\n          <span>\\n           25\\n          </span>\\n          <br/>\\n          Lecture\\n         </div>\\n         <ul class=\"list-inline post-info\">\\n          <li class=\"post-tag text-uppercase\">\\n           Bangla\\n          </li>\\n         </ul>\\n        </a>\\n       </div>\\n       <div class=\"blog-details text-center\">\\n        <a href=\"http://www.artofcse.com/courses/9/psd-to-html\">\\n         <h4 class=\"media-heading text-center\">\\n          PSD থেকে HTML তেরি\\n         </h4>\\n        </a>\\n        <p class=\"text-center\">\\n         আমরা এই কোর্সে দেখব কিভাবে একটি PSD ফাইলকে হুবহু HTML and CSS রূপান্তর করতে হয় । একটা\\n        </p>\\n        <a class=\"btn btn-success\" href=\"http://www.artofcse.com/courses/9/psd-to-html\">\\n         Start Course\\n        </a>\\n       </div>\\n      </div>\\n     </div>\\n     <div class=\"col-md-3 col-sm-6 col-xs-12\">\\n      <div class=\"blog-post wow fadeInUp\" data-wow-delay=\"0.2s\">\\n       <div class=\"post-img\">\\n        <a href=\"http://www.artofcse.com/courses/10/twitter-bootstrap\">\\n         <img alt=\"Twitter Bootstrap এর ব্যবহার\" class=\"img-responsive\" src=\"http://www.artofcse.com/uploads/courses/Twitter-Bootstrap-এর-ব্যবহ68717.jpeg\"/>\\n         <div class=\"date text-center\">\\n          <span>\\n           4\\n          </span>\\n          <br/>\\n          Lecture\\n         </div>\\n         <ul class=\"list-inline post-info\">\\n          <li class=\"post-tag text-uppercase\">\\n           Bangla\\n          </li>\\n         </ul>\\n        </a>\\n       </div>\\n       <div class=\"blog-details text-center\">\\n        <a href=\"http://www.artofcse.com/courses/10/twitter-bootstrap\">\\n         <h4 class=\"media-heading text-center\">\\n          Twitter Bootstrap এর ব্যবহার\\n         </h4>\\n        </a>\\n        <p class=\"text-center\">\\n         এই কোর্সে আমরা শিখব কিভারে ওয়েব পেজে Twitter bootstrap Framework ব্যবহার করতে হয় । Twitter bootstrap Framework\\n        </p>\\n        <a class=\"btn btn-success\" href=\"http://www.artofcse.com/courses/10/twitter-bootstrap\">\\n         Start Course\\n        </a>\\n       </div>\\n      </div>\\n     </div>\\n     <div class=\"col-md-3 col-sm-6 col-xs-12\">\\n      <div class=\"blog-post wow fadeInUp\" data-wow-delay=\"0.2s\">\\n       <div class=\"post-img\">\\n        <a href=\"http://www.artofcse.com/courses/11/basic-wordpress\">\\n         <img alt=\"Wordpress এর ব্যবহার\" class=\"img-responsive\" src=\"http://www.artofcse.com/uploads/courses/Wordpress-এর-ব্যবহার46105.jpg\"/>\\n         <div class=\"date text-center\">\\n          <span>\\n           23\\n          </span>\\n          <br/>\\n          Lecture\\n         </div>\\n         <ul class=\"list-inline post-info\">\\n          <li class=\"post-tag text-uppercase\">\\n           Bangla\\n          </li>\\n         </ul>\\n        </a>\\n       </div>\\n       <div class=\"blog-details text-center\">\\n        <a href=\"http://www.artofcse.com/courses/11/basic-wordpress\">\\n         <h4 class=\"media-heading text-center\">\\n          Wordpress এর ব্যবহার\\n         </h4>\\n        </a>\\n        <p class=\"text-center\">\\n         Wordpress হচ্ছে একটা CMS। এই Course আমারা ওয়ার্ডপ্রেসের বেসিক বিষয়গুল নিয়ে আলোচনা করব ।\\n        </p>\\n        <a class=\"btn btn-success\" href=\"http://www.artofcse.com/courses/11/basic-wordpress\">\\n         Start Course\\n        </a>\\n       </div>\\n      </div>\\n     </div>\\n     <div class=\"col-md-3 col-sm-6 col-xs-12\">\\n      <div class=\"blog-post wow fadeInUp\" data-wow-delay=\"0.2s\">\\n       <div class=\"post-img\">\\n        <a href=\"http://www.artofcse.com/courses/12/worpress-theme-development\">\\n         <img alt=\"Worpress এর থিম তৈরি\" class=\"img-responsive\" src=\"http://www.artofcse.com/uploads/courses/wordpress-theme.jpg\"/>\\n         <div class=\"date text-center\">\\n          <span>\\n           16\\n          </span>\\n          <br/>\\n          Lecture\\n         </div>\\n         <ul class=\"list-inline post-info\">\\n          <li class=\"post-tag text-uppercase\">\\n           Bangla\\n          </li>\\n         </ul>\\n        </a>\\n       </div>\\n       <div class=\"blog-details text-center\">\\n        <a href=\"http://www.artofcse.com/courses/12/worpress-theme-development\">\\n         <h4 class=\"media-heading text-center\">\\n          Worpress এর থিম তৈরি\\n         </h4>\\n        </a>\\n        <p class=\"text-center\">\\n         এই কোর্সে দেখব কিভাবে Wordpress theme  তৈরি করতে হয় । এই কোর্সটি করতে হলে অবশ্যই HTML and CSS\\n        </p>\\n        <a class=\"btn btn-success\" href=\"http://www.artofcse.com/courses/12/worpress-theme-development\">\\n         Start Course\\n        </a>\\n       </div>\\n      </div>\\n     </div>\\n     <div class=\"col-md-3 col-sm-6 col-xs-12\">\\n      <div class=\"blog-post wow fadeInUp\" data-wow-delay=\"0.2s\">\\n       <div class=\"post-img\">\\n        <a href=\"http://www.artofcse.com/courses/13/cpanel-tutorial\">\\n         <img alt=\"cPanel এর ব্যবহার\" class=\"img-responsive\" src=\"http://www.artofcse.com/uploads/courses/capnel.jpg\"/>\\n         <div class=\"date text-center\">\\n          <span>\\n           9\\n          </span>\\n          <br/>\\n          Lecture\\n         </div>\\n         <ul class=\"list-inline post-info\">\\n          <li class=\"post-tag text-uppercase\">\\n           Bangla\\n          </li>\\n         </ul>\\n        </a>\\n       </div>\\n       <div class=\"blog-details text-center\">\\n        <a href=\"http://www.artofcse.com/courses/13/cpanel-tutorial\">\\n         <h4 class=\"media-heading text-center\">\\n          cPanel এর ব্যবহার\\n         </h4>\\n        </a>\\n        <p class=\"text-center\">\\n         এই কোর্সে দেখব কিভাবে cPanel ব্যবহার করে Website management করতে হয়। ফাইল আপলোড, সাবডোমেইন\\n        </p>\\n        <a class=\"btn btn-success\" href=\"http://www.artofcse.com/courses/13/cpanel-tutorial\">\\n         Start Course\\n        </a>\\n       </div>\\n      </div>\\n     </div>\\n     <div class=\"col-md-3 col-sm-6 col-xs-12\">\\n      <div class=\"blog-post wow fadeInUp\" data-wow-delay=\"0.2s\">\\n       <div class=\"post-img\">\\n        <a href=\"http://www.artofcse.com/courses/14/basic-php\">\\n         <img alt=\"PHP এর হাতে খড়ি\" class=\"img-responsive\" src=\"http://www.artofcse.com/uploads/courses/php.png\"/>\\n         <div class=\"date text-center\">\\n          <span>\\n           22\\n          </span>\\n          <br/>\\n          Lecture\\n         </div>\\n         <ul class=\"list-inline post-info\">\\n          <li class=\"post-tag text-uppercase\">\\n           Bangla\\n          </li>\\n         </ul>\\n        </a>\\n       </div>\\n       <div class=\"blog-details text-center\">\\n        <a href=\"http://www.artofcse.com/courses/14/basic-php\">\\n         <h4 class=\"media-heading text-center\">\\n          PHP এর হাতে খড়ি\\n         </h4>\\n        </a>\\n        <p class=\"text-center\">\\n         Programming এর বেসিক বিষয়গুল এই কোর্সে দেখব। এখানে মূলত PHP এর বেসিক নিয়ে আলোচনা করব।\\n        </p>\\n        <a class=\"btn btn-success\" href=\"http://www.artofcse.com/courses/14/basic-php\">\\n         Start Course\\n        </a>\\n       </div>\\n      </div>\\n     </div>\\n     <div class=\"col-md-3 col-sm-6 col-xs-12\">\\n      <div class=\"blog-post wow fadeInUp\" data-wow-delay=\"0.2s\">\\n       <div class=\"post-img\">\\n        <a href=\"http://www.artofcse.com/courses/15/web-development-with-php\">\\n         <img alt=\"Web Development with PHP\" class=\"img-responsive\" src=\"http://www.artofcse.com/uploads/courses/Web-Development-with-PHP67776.png\"/>\\n         <div class=\"date text-center\">\\n          <span>\\n           25\\n          </span>\\n          <br/>\\n          Lecture\\n         </div>\\n         <ul class=\"list-inline post-info\">\\n          <li class=\"post-tag text-uppercase\">\\n           Bangla\\n          </li>\\n         </ul>\\n        </a>\\n       </div>\\n       <div class=\"blog-details text-center\">\\n        <a href=\"http://www.artofcse.com/courses/15/web-development-with-php\">\\n         <h4 class=\"media-heading text-center\">\\n          Web Development with PHP\\n         </h4>\\n        </a>\\n        <p class=\"text-center\">\\n         এই কোর্সে Web development এর বিষয়গুল জানব । এটি একটি সম্পূর্ণ Web development কোর্স । HTML, CSS, Bootstrap,\\n        </p>\\n        <a class=\"btn btn-success\" href=\"http://www.artofcse.com/courses/15/web-development-with-php\">\\n         Start Course\\n        </a>\\n       </div>\\n      </div>\\n     </div>\\n     <div class=\"col-md-3 col-sm-6 col-xs-12\">\\n      <div class=\"blog-post wow fadeInUp\" data-wow-delay=\"0.2s\">\\n       <div class=\"post-img\">\\n        <a href=\"http://www.artofcse.com/courses/16/object-oriented-php\">\\n         <img alt=\"Object Oriented PHP\" class=\"img-responsive\" src=\"http://www.artofcse.com/uploads/courses/Object-Oriented-PHP67298.jpg\"/>\\n         <div class=\"date text-center\">\\n          <span>\\n           0\\n          </span>\\n          <br/>\\n          Lecture\\n         </div>\\n         <ul class=\"list-inline post-info\">\\n          <li class=\"post-tag text-uppercase\">\\n           Bangla\\n          </li>\\n         </ul>\\n        </a>\\n       </div>\\n       <div class=\"blog-details text-center\">\\n        <a href=\"http://www.artofcse.com/courses/16/object-oriented-php\">\\n         <h4 class=\"media-heading text-center\">\\n          Object Oriented PHP\\n         </h4>\\n        </a>\\n        <p class=\"text-center\">\\n         Coming\\n        </p>\\n        <a class=\"btn btn-success\" href=\"http://www.artofcse.com/courses/16/object-oriented-php\">\\n         Start Course\\n        </a>\\n       </div>\\n      </div>\\n     </div>\\n     <div class=\"col-md-3 col-sm-6 col-xs-12\">\\n      <div class=\"blog-post wow fadeInUp\" data-wow-delay=\"0.2s\">\\n       <div class=\"post-img\">\\n        <a href=\"http://www.artofcse.com/courses/17/laravel-framework\">\\n         <img alt=\"Laravel Framework\" class=\"img-responsive\" src=\"http://www.artofcse.com/uploads/courses/Laravel-Framework94339.jpg\"/>\\n         <div class=\"date text-center\">\\n          <span>\\n           0\\n          </span>\\n          <br/>\\n          Lecture\\n         </div>\\n         <ul class=\"list-inline post-info\">\\n          <li class=\"post-tag text-uppercase\">\\n           Bangla\\n          </li>\\n         </ul>\\n        </a>\\n       </div>\\n       <div class=\"blog-details text-center\">\\n        <a href=\"http://www.artofcse.com/courses/17/laravel-framework\">\\n         <h4 class=\"media-heading text-center\">\\n          Laravel Framework\\n         </h4>\\n        </a>\\n        <p class=\"text-center\">\\n         Coming\\n        </p>\\n        <a class=\"btn btn-success\" href=\"http://www.artofcse.com/courses/17/laravel-framework\">\\n         Start Course\\n        </a>\\n       </div>\\n      </div>\\n     </div>\\n     <div class=\"col-md-3 col-sm-6 col-xs-12\">\\n      <div class=\"blog-post wow fadeInUp\" data-wow-delay=\"0.2s\">\\n       <div class=\"post-img\">\\n        <a href=\"http://www.artofcse.com/courses/18/python-programming\">\\n         <img alt=\"Python Programming\" class=\"img-responsive\" src=\"http://www.artofcse.com/uploads/courses/Python-Programming12846.jpg\"/>\\n         <div class=\"date text-center\">\\n          <span>\\n           0\\n          </span>\\n          <br/>\\n          Lecture\\n         </div>\\n         <ul class=\"list-inline post-info\">\\n          <li class=\"post-tag text-uppercase\">\\n           Bangla\\n          </li>\\n         </ul>\\n        </a>\\n       </div>\\n       <div class=\"blog-details text-center\">\\n        <a href=\"http://www.artofcse.com/courses/18/python-programming\">\\n         <h4 class=\"media-heading text-center\">\\n          Python Programming\\n         </h4>\\n        </a>\\n        <p class=\"text-center\">\\n         Coming\\n        </p>\\n        <a class=\"btn btn-success\" href=\"http://www.artofcse.com/courses/18/python-programming\">\\n         Start Course\\n        </a>\\n       </div>\\n      </div>\\n     </div>\\n    </div>\\n   </div>\\n  </div>\\n </div>\\n</section>\\n'"
      ]
     },
     "execution_count": 43,
     "metadata": {},
     "output_type": "execute_result"
    }
   ],
   "source": [
    "course_section.prettify()"
   ]
  },
  {
   "cell_type": "code",
   "execution_count": 47,
   "metadata": {},
   "outputs": [
    {
     "data": {
      "text/plain": [
       "[<a href=\"http://www.artofcse.com/courses/7/basic-html\">\n",
       " <img alt=\"HTML দিয়ে শুরু\" class=\"img-responsive\" src=\"http://www.artofcse.com/uploads/courses/basic-html.jpg\"/>\n",
       " <div class=\"date text-center\"><span>21</span><br/>Lecture</div>\n",
       " <ul class=\"list-inline post-info\">\n",
       " <li class=\"post-tag text-uppercase\">Bangla</li>\n",
       " </ul>\n",
       " </a>, <a href=\"http://www.artofcse.com/courses/7/basic-html\">\n",
       " <h4 class=\"media-heading text-center\">HTML দিয়ে শুরু</h4>\n",
       " </a>, <a class=\"btn btn-success\" href=\"http://www.artofcse.com/courses/7/basic-html\">\n",
       "                                             Start Course\n",
       "                                         </a>, <a href=\"http://www.artofcse.com/courses/8/basic-css\">\n",
       " <img alt=\"CSS এ হাতে খড়ি\" class=\"img-responsive\" src=\"http://www.artofcse.com/uploads/courses/Basic-CSS72343.jpg\"/>\n",
       " <div class=\"date text-center\"><span>20</span><br/>Lecture</div>\n",
       " <ul class=\"list-inline post-info\">\n",
       " <li class=\"post-tag text-uppercase\">Bangla</li>\n",
       " </ul>\n",
       " </a>, <a href=\"http://www.artofcse.com/courses/8/basic-css\">\n",
       " <h4 class=\"media-heading text-center\">CSS এ হাতে খড়ি</h4>\n",
       " </a>, <a class=\"btn btn-success\" href=\"http://www.artofcse.com/courses/8/basic-css\">\n",
       "                                             Start Course\n",
       "                                         </a>, <a href=\"http://www.artofcse.com/courses/9/psd-to-html\">\n",
       " <img alt=\"PSD থেকে HTML তেরি\" class=\"img-responsive\" src=\"http://www.artofcse.com/uploads/courses/psdtohmlt.jpg\"/>\n",
       " <div class=\"date text-center\"><span>25</span><br/>Lecture</div>\n",
       " <ul class=\"list-inline post-info\">\n",
       " <li class=\"post-tag text-uppercase\">Bangla</li>\n",
       " </ul>\n",
       " </a>, <a href=\"http://www.artofcse.com/courses/9/psd-to-html\">\n",
       " <h4 class=\"media-heading text-center\">PSD থেকে HTML তেরি</h4>\n",
       " </a>, <a class=\"btn btn-success\" href=\"http://www.artofcse.com/courses/9/psd-to-html\">\n",
       "                                             Start Course\n",
       "                                         </a>, <a href=\"http://www.artofcse.com/courses/10/twitter-bootstrap\">\n",
       " <img alt=\"Twitter Bootstrap এর ব্যবহার\" class=\"img-responsive\" src=\"http://www.artofcse.com/uploads/courses/Twitter-Bootstrap-এর-ব্যবহ68717.jpeg\"/>\n",
       " <div class=\"date text-center\"><span>4</span><br/>Lecture</div>\n",
       " <ul class=\"list-inline post-info\">\n",
       " <li class=\"post-tag text-uppercase\">Bangla</li>\n",
       " </ul>\n",
       " </a>, <a href=\"http://www.artofcse.com/courses/10/twitter-bootstrap\">\n",
       " <h4 class=\"media-heading text-center\">Twitter Bootstrap এর ব্যবহার</h4>\n",
       " </a>, <a class=\"btn btn-success\" href=\"http://www.artofcse.com/courses/10/twitter-bootstrap\">\n",
       "                                             Start Course\n",
       "                                         </a>, <a href=\"http://www.artofcse.com/courses/11/basic-wordpress\">\n",
       " <img alt=\"Wordpress এর ব্যবহার\" class=\"img-responsive\" src=\"http://www.artofcse.com/uploads/courses/Wordpress-এর-ব্যবহার46105.jpg\"/>\n",
       " <div class=\"date text-center\"><span>23</span><br/>Lecture</div>\n",
       " <ul class=\"list-inline post-info\">\n",
       " <li class=\"post-tag text-uppercase\">Bangla</li>\n",
       " </ul>\n",
       " </a>, <a href=\"http://www.artofcse.com/courses/11/basic-wordpress\">\n",
       " <h4 class=\"media-heading text-center\">Wordpress এর ব্যবহার</h4>\n",
       " </a>, <a class=\"btn btn-success\" href=\"http://www.artofcse.com/courses/11/basic-wordpress\">\n",
       "                                             Start Course\n",
       "                                         </a>, <a href=\"http://www.artofcse.com/courses/12/worpress-theme-development\">\n",
       " <img alt=\"Worpress এর থিম তৈরি\" class=\"img-responsive\" src=\"http://www.artofcse.com/uploads/courses/wordpress-theme.jpg\"/>\n",
       " <div class=\"date text-center\"><span>16</span><br/>Lecture</div>\n",
       " <ul class=\"list-inline post-info\">\n",
       " <li class=\"post-tag text-uppercase\">Bangla</li>\n",
       " </ul>\n",
       " </a>, <a href=\"http://www.artofcse.com/courses/12/worpress-theme-development\">\n",
       " <h4 class=\"media-heading text-center\">Worpress এর থিম তৈরি</h4>\n",
       " </a>, <a class=\"btn btn-success\" href=\"http://www.artofcse.com/courses/12/worpress-theme-development\">\n",
       "                                             Start Course\n",
       "                                         </a>, <a href=\"http://www.artofcse.com/courses/13/cpanel-tutorial\">\n",
       " <img alt=\"cPanel এর ব্যবহার\" class=\"img-responsive\" src=\"http://www.artofcse.com/uploads/courses/capnel.jpg\"/>\n",
       " <div class=\"date text-center\"><span>9</span><br/>Lecture</div>\n",
       " <ul class=\"list-inline post-info\">\n",
       " <li class=\"post-tag text-uppercase\">Bangla</li>\n",
       " </ul>\n",
       " </a>, <a href=\"http://www.artofcse.com/courses/13/cpanel-tutorial\">\n",
       " <h4 class=\"media-heading text-center\">cPanel এর ব্যবহার</h4>\n",
       " </a>, <a class=\"btn btn-success\" href=\"http://www.artofcse.com/courses/13/cpanel-tutorial\">\n",
       "                                             Start Course\n",
       "                                         </a>, <a href=\"http://www.artofcse.com/courses/14/basic-php\">\n",
       " <img alt=\"PHP এর হাতে খড়ি\" class=\"img-responsive\" src=\"http://www.artofcse.com/uploads/courses/php.png\"/>\n",
       " <div class=\"date text-center\"><span>22</span><br/>Lecture</div>\n",
       " <ul class=\"list-inline post-info\">\n",
       " <li class=\"post-tag text-uppercase\">Bangla</li>\n",
       " </ul>\n",
       " </a>, <a href=\"http://www.artofcse.com/courses/14/basic-php\">\n",
       " <h4 class=\"media-heading text-center\">PHP এর হাতে খড়ি</h4>\n",
       " </a>, <a class=\"btn btn-success\" href=\"http://www.artofcse.com/courses/14/basic-php\">\n",
       "                                             Start Course\n",
       "                                         </a>, <a href=\"http://www.artofcse.com/courses/15/web-development-with-php\">\n",
       " <img alt=\"Web Development with PHP\" class=\"img-responsive\" src=\"http://www.artofcse.com/uploads/courses/Web-Development-with-PHP67776.png\"/>\n",
       " <div class=\"date text-center\"><span>25</span><br/>Lecture</div>\n",
       " <ul class=\"list-inline post-info\">\n",
       " <li class=\"post-tag text-uppercase\">Bangla</li>\n",
       " </ul>\n",
       " </a>, <a href=\"http://www.artofcse.com/courses/15/web-development-with-php\">\n",
       " <h4 class=\"media-heading text-center\">Web Development with PHP</h4>\n",
       " </a>, <a class=\"btn btn-success\" href=\"http://www.artofcse.com/courses/15/web-development-with-php\">\n",
       "                                             Start Course\n",
       "                                         </a>, <a href=\"http://www.artofcse.com/courses/16/object-oriented-php\">\n",
       " <img alt=\"Object Oriented PHP\" class=\"img-responsive\" src=\"http://www.artofcse.com/uploads/courses/Object-Oriented-PHP67298.jpg\"/>\n",
       " <div class=\"date text-center\"><span>0</span><br/>Lecture</div>\n",
       " <ul class=\"list-inline post-info\">\n",
       " <li class=\"post-tag text-uppercase\">Bangla</li>\n",
       " </ul>\n",
       " </a>, <a href=\"http://www.artofcse.com/courses/16/object-oriented-php\">\n",
       " <h4 class=\"media-heading text-center\">Object Oriented PHP</h4>\n",
       " </a>, <a class=\"btn btn-success\" href=\"http://www.artofcse.com/courses/16/object-oriented-php\">\n",
       "                                             Start Course\n",
       "                                         </a>, <a href=\"http://www.artofcse.com/courses/17/laravel-framework\">\n",
       " <img alt=\"Laravel Framework\" class=\"img-responsive\" src=\"http://www.artofcse.com/uploads/courses/Laravel-Framework94339.jpg\"/>\n",
       " <div class=\"date text-center\"><span>0</span><br/>Lecture</div>\n",
       " <ul class=\"list-inline post-info\">\n",
       " <li class=\"post-tag text-uppercase\">Bangla</li>\n",
       " </ul>\n",
       " </a>, <a href=\"http://www.artofcse.com/courses/17/laravel-framework\">\n",
       " <h4 class=\"media-heading text-center\">Laravel Framework</h4>\n",
       " </a>, <a class=\"btn btn-success\" href=\"http://www.artofcse.com/courses/17/laravel-framework\">\n",
       "                                             Start Course\n",
       "                                         </a>, <a href=\"http://www.artofcse.com/courses/18/python-programming\">\n",
       " <img alt=\"Python Programming\" class=\"img-responsive\" src=\"http://www.artofcse.com/uploads/courses/Python-Programming12846.jpg\"/>\n",
       " <div class=\"date text-center\"><span>0</span><br/>Lecture</div>\n",
       " <ul class=\"list-inline post-info\">\n",
       " <li class=\"post-tag text-uppercase\">Bangla</li>\n",
       " </ul>\n",
       " </a>, <a href=\"http://www.artofcse.com/courses/18/python-programming\">\n",
       " <h4 class=\"media-heading text-center\">Python Programming</h4>\n",
       " </a>, <a class=\"btn btn-success\" href=\"http://www.artofcse.com/courses/18/python-programming\">\n",
       "                                             Start Course\n",
       "                                         </a>]"
      ]
     },
     "execution_count": 47,
     "metadata": {},
     "output_type": "execute_result"
    }
   ],
   "source": [
    "course_links = course_section.find_all('a')\n",
    "course_links"
   ]
  },
  {
   "cell_type": "code",
   "execution_count": 50,
   "metadata": {},
   "outputs": [],
   "source": [
    "courses = []\n",
    "links = []\n",
    "for index, course_link in enumerate(course_links, start=0):\n",
    "    if index % 3 == 1:\n",
    "        courses.append(course_link.get_text())\n",
    "        links.append(course_link.get('href'))"
   ]
  },
  {
   "cell_type": "code",
   "execution_count": 51,
   "metadata": {},
   "outputs": [
    {
     "data": {
      "text/plain": [
       "['\\nHTML দিয়ে শুরু\\n',\n",
       " '\\nCSS এ হাতে খড়ি\\n',\n",
       " '\\nPSD থেকে HTML তেরি\\n',\n",
       " '\\nTwitter Bootstrap এর ব্যবহার\\n',\n",
       " '\\nWordpress এর ব্যবহার\\n',\n",
       " '\\nWorpress এর থিম তৈরি\\n',\n",
       " '\\ncPanel এর ব্যবহার\\n',\n",
       " '\\nPHP এর হাতে খড়ি\\n',\n",
       " '\\nWeb Development with PHP\\n',\n",
       " '\\nObject Oriented PHP\\n',\n",
       " '\\nLaravel Framework\\n',\n",
       " '\\nPython Programming\\n']"
      ]
     },
     "execution_count": 51,
     "metadata": {},
     "output_type": "execute_result"
    }
   ],
   "source": [
    "courses"
   ]
  },
  {
   "cell_type": "code",
   "execution_count": 52,
   "metadata": {},
   "outputs": [
    {
     "data": {
      "text/plain": [
       "['http://www.artofcse.com/courses/7/basic-html',\n",
       " 'http://www.artofcse.com/courses/8/basic-css',\n",
       " 'http://www.artofcse.com/courses/9/psd-to-html',\n",
       " 'http://www.artofcse.com/courses/10/twitter-bootstrap',\n",
       " 'http://www.artofcse.com/courses/11/basic-wordpress',\n",
       " 'http://www.artofcse.com/courses/12/worpress-theme-development',\n",
       " 'http://www.artofcse.com/courses/13/cpanel-tutorial',\n",
       " 'http://www.artofcse.com/courses/14/basic-php',\n",
       " 'http://www.artofcse.com/courses/15/web-development-with-php',\n",
       " 'http://www.artofcse.com/courses/16/object-oriented-php',\n",
       " 'http://www.artofcse.com/courses/17/laravel-framework',\n",
       " 'http://www.artofcse.com/courses/18/python-programming']"
      ]
     },
     "execution_count": 52,
     "metadata": {},
     "output_type": "execute_result"
    }
   ],
   "source": [
    "links"
   ]
  },
  {
   "cell_type": "code",
   "execution_count": 54,
   "metadata": {},
   "outputs": [],
   "source": [
    "# Create a file to write to, add headers row\n",
    "f = csv.writer(open('artofcse.csv', 'w'))\n",
    "f.writerow(['Course', 'Link'])\n",
    "\n",
    "for index, course_link in enumerate(course_links, start=0):\n",
    "    if index % 3 == 1:\n",
    "        course = course_link.get_text()\n",
    "        link = course_link.get('href')\n",
    "        f.writerow([course, link])"
   ]
  },
  {
   "cell_type": "code",
   "execution_count": null,
   "metadata": {
    "collapsed": true
   },
   "outputs": [],
   "source": []
  }
 ],
 "metadata": {
  "kernelspec": {
   "display_name": "Python 3",
   "language": "python",
   "name": "python3"
  },
  "language_info": {
   "codemirror_mode": {
    "name": "ipython",
    "version": 3
   },
   "file_extension": ".py",
   "mimetype": "text/x-python",
   "name": "python",
   "nbconvert_exporter": "python",
   "pygments_lexer": "ipython3",
   "version": "3.6.4"
  }
 },
 "nbformat": 4,
 "nbformat_minor": 2
}
